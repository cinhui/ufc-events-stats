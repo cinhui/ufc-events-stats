{
 "cells": [
  {
   "cell_type": "markdown",
   "metadata": {},
   "source": [
    "# Scrape UFC events data\n",
    "\n",
    "1. Compile a list of the past events and write to file\n",
    "2. Visit each wiki page of the past events and gather matches data\n",
    "2. Compile a list of the schedule events and write to file\n",
    "3. Collect the poster images of the past events"
   ]
  },
  {
   "cell_type": "code",
   "execution_count": 68,
   "metadata": {},
   "outputs": [],
   "source": [
    "import requests\n",
    "from bs4 import BeautifulSoup\n",
    "import pandas as pd\n",
    "import numpy as np\n",
    "import itertools\n",
    "import re\n",
    "pd.set_option('display.max_colwidth', -1)"
   ]
  },
  {
   "cell_type": "markdown",
   "metadata": {},
   "source": [
    "## Scrape list of past events"
   ]
  },
  {
   "cell_type": "code",
   "execution_count": 2,
   "metadata": {
    "scrolled": false
   },
   "outputs": [],
   "source": [
    "# Last visited 6/1/2020\n",
    "# Collect list of past events\n",
    "url = 'https://en.wikipedia.org/wiki/List_of_UFC_events'\n",
    "url_request = requests.get(url).text\n",
    "soup = BeautifulSoup(url_request, 'html.parser')"
   ]
  },
  {
   "cell_type": "code",
   "execution_count": 3,
   "metadata": {},
   "outputs": [],
   "source": [
    "events_data = []\n",
    "table = soup.find('table',{'id':'Past_events'})\n",
    "table_rows = table.find_all('tr')\n",
    "for row in table_rows[1:]:\n",
    "    events_data.append([t.text.strip() for t in row.find_all('td')]) \n",
    "            \n",
    "events_df = pd.DataFrame(events_data, columns=['Index', 'Event', 'Date', 'Venue', 'Location', 'Attendance','Ref'])"
   ]
  },
  {
   "cell_type": "code",
   "execution_count": 4,
   "metadata": {
    "scrolled": false
   },
   "outputs": [],
   "source": [
    "links = []\n",
    "for row in table_rows[1:]:\n",
    "#     links.append([t.get('href') for t in row.find_all('a')]) \n",
    "    links.append(\"https://en.wikipedia.org\" + row.find('a').get('href'))"
   ]
  },
  {
   "cell_type": "code",
   "execution_count": 5,
   "metadata": {},
   "outputs": [],
   "source": [
    "events_df.insert(2, \"wikipage\", links) "
   ]
  },
  {
   "cell_type": "code",
   "execution_count": 6,
   "metadata": {},
   "outputs": [
    {
     "name": "stdout",
     "output_type": "stream",
     "text": [
      "Total events: 526\n",
      "Events (excluding cancelled): 517\n"
     ]
    }
   ],
   "source": [
    "print(\"Total events: \" + str(len(events_df)))\n",
    "events_occurred_df = events_df[events_df['Attendance']!=\"Cancelled\"]\n",
    "print(\"Events (excluding cancelled): \" + str(len(events_occurred_df)))"
   ]
  },
  {
   "cell_type": "code",
   "execution_count": 7,
   "metadata": {},
   "outputs": [],
   "source": [
    "# Write list of past UFC events to csv file\n",
    "events_df.to_csv(\"data/list_of_UFC_past_events.csv\", index=False)"
   ]
  },
  {
   "cell_type": "markdown",
   "metadata": {},
   "source": [
    "## Visit each of the past event's wiki page and gather matches data"
   ]
  },
  {
   "cell_type": "code",
   "execution_count": 8,
   "metadata": {},
   "outputs": [],
   "source": [
    "# Read list of past UFC events\n",
    "events_df = pd.read_csv(\"data/list_of_UFC_past_events.csv\")\n",
    "events_occurred_df = events_df[events_df['Attendance']!=\"Cancelled\"]"
   ]
  },
  {
   "cell_type": "code",
   "execution_count": 9,
   "metadata": {},
   "outputs": [
    {
     "data": {
      "text/html": [
       "<div>\n",
       "<style scoped>\n",
       "    .dataframe tbody tr th:only-of-type {\n",
       "        vertical-align: middle;\n",
       "    }\n",
       "\n",
       "    .dataframe tbody tr th {\n",
       "        vertical-align: top;\n",
       "    }\n",
       "\n",
       "    .dataframe thead th {\n",
       "        text-align: right;\n",
       "    }\n",
       "</style>\n",
       "<table border=\"1\" class=\"dataframe\">\n",
       "  <thead>\n",
       "    <tr style=\"text-align: right;\">\n",
       "      <th></th>\n",
       "      <th>Index</th>\n",
       "      <th>Event</th>\n",
       "      <th>wikipage</th>\n",
       "      <th>Date</th>\n",
       "      <th>Venue</th>\n",
       "      <th>Location</th>\n",
       "      <th>Attendance</th>\n",
       "      <th>Ref</th>\n",
       "    </tr>\n",
       "  </thead>\n",
       "  <tbody>\n",
       "    <tr>\n",
       "      <td>0</td>\n",
       "      <td>513</td>\n",
       "      <td>UFC Fight Night: Lee vs. Oliveira</td>\n",
       "      <td>https://en.wikipedia.org/wiki/UFC_Fight_Night:_Lee_vs._Oliveira</td>\n",
       "      <td>Mar 14, 2020</td>\n",
       "      <td>Ginásio Nilson Nelson</td>\n",
       "      <td>Brasília, Brazil</td>\n",
       "      <td>0</td>\n",
       "      <td>[15]</td>\n",
       "    </tr>\n",
       "    <tr>\n",
       "      <td>1</td>\n",
       "      <td>512</td>\n",
       "      <td>UFC 248: Adesanya vs. Romero</td>\n",
       "      <td>https://en.wikipedia.org/wiki/UFC_248</td>\n",
       "      <td>Mar 7, 2020</td>\n",
       "      <td>T-Mobile Arena</td>\n",
       "      <td>Las Vegas, Nevada, U.S.</td>\n",
       "      <td>15,077</td>\n",
       "      <td>[16]</td>\n",
       "    </tr>\n",
       "    <tr>\n",
       "      <td>2</td>\n",
       "      <td>511</td>\n",
       "      <td>UFC Fight Night: Benavidez vs. Figueiredo</td>\n",
       "      <td>https://en.wikipedia.org/wiki/UFC_Fight_Night:_Benavidez_vs._Figueiredo</td>\n",
       "      <td>Feb 29, 2020</td>\n",
       "      <td>Chartway Arena</td>\n",
       "      <td>Norfolk, Virginia, U.S.</td>\n",
       "      <td>7,098</td>\n",
       "      <td>[17]</td>\n",
       "    </tr>\n",
       "    <tr>\n",
       "      <td>3</td>\n",
       "      <td>510</td>\n",
       "      <td>UFC Fight Night: Felder vs. Hooker</td>\n",
       "      <td>https://en.wikipedia.org/wiki/UFC_Fight_Night:_Felder_vs._Hooker</td>\n",
       "      <td>Feb 23, 2020</td>\n",
       "      <td>Spark Arena</td>\n",
       "      <td>Auckland, New Zealand</td>\n",
       "      <td>10,025</td>\n",
       "      <td>[18]</td>\n",
       "    </tr>\n",
       "    <tr>\n",
       "      <td>4</td>\n",
       "      <td>509</td>\n",
       "      <td>UFC Fight Night: Anderson vs. Błachowicz 2</td>\n",
       "      <td>https://en.wikipedia.org/wiki/UFC_Fight_Night:_Anderson_vs._B%C5%82achowicz_2</td>\n",
       "      <td>Feb 15, 2020</td>\n",
       "      <td>Santa Ana Star Center</td>\n",
       "      <td>Rio Rancho, New Mexico, U.S.</td>\n",
       "      <td>6,449</td>\n",
       "      <td>[19]</td>\n",
       "    </tr>\n",
       "    <tr>\n",
       "      <td>...</td>\n",
       "      <td>...</td>\n",
       "      <td>...</td>\n",
       "      <td>...</td>\n",
       "      <td>...</td>\n",
       "      <td>...</td>\n",
       "      <td>...</td>\n",
       "      <td>...</td>\n",
       "      <td>...</td>\n",
       "    </tr>\n",
       "    <tr>\n",
       "      <td>508</td>\n",
       "      <td>005</td>\n",
       "      <td>UFC 5: The Return of the Beast</td>\n",
       "      <td>https://en.wikipedia.org/wiki/UFC_5</td>\n",
       "      <td>Apr 7, 1995</td>\n",
       "      <td>Independence Arena</td>\n",
       "      <td>Charlotte, North Carolina, U.S.</td>\n",
       "      <td>6,000</td>\n",
       "      <td>[464]</td>\n",
       "    </tr>\n",
       "    <tr>\n",
       "      <td>509</td>\n",
       "      <td>004</td>\n",
       "      <td>UFC 4: Revenge of the Warriors</td>\n",
       "      <td>https://en.wikipedia.org/wiki/UFC_4</td>\n",
       "      <td>Dec 16, 1994</td>\n",
       "      <td>Expo Square Pavilion</td>\n",
       "      <td>Tulsa, Oklahoma, U.S.</td>\n",
       "      <td>5,857</td>\n",
       "      <td>[465]</td>\n",
       "    </tr>\n",
       "    <tr>\n",
       "      <td>510</td>\n",
       "      <td>003</td>\n",
       "      <td>UFC 3: The American Dream</td>\n",
       "      <td>https://en.wikipedia.org/wiki/UFC_3</td>\n",
       "      <td>Sep 9, 1994</td>\n",
       "      <td>Grady Cole Center</td>\n",
       "      <td>Charlotte, North Carolina, U.S.</td>\n",
       "      <td>NaN</td>\n",
       "      <td>NaN</td>\n",
       "    </tr>\n",
       "    <tr>\n",
       "      <td>511</td>\n",
       "      <td>002</td>\n",
       "      <td>UFC 2: No Way Out</td>\n",
       "      <td>https://en.wikipedia.org/wiki/UFC_2</td>\n",
       "      <td>Mar 11, 1994</td>\n",
       "      <td>Mammoth Gardens</td>\n",
       "      <td>Denver, Colorado, U.S.</td>\n",
       "      <td>2,000</td>\n",
       "      <td>[466]</td>\n",
       "    </tr>\n",
       "    <tr>\n",
       "      <td>512</td>\n",
       "      <td>001</td>\n",
       "      <td>UFC 1: The Beginning</td>\n",
       "      <td>https://en.wikipedia.org/wiki/UFC_1</td>\n",
       "      <td>Nov 12, 1993</td>\n",
       "      <td>McNichols Sports Arena</td>\n",
       "      <td>Denver, Colorado, U.S.</td>\n",
       "      <td>7,800</td>\n",
       "      <td>[467]</td>\n",
       "    </tr>\n",
       "  </tbody>\n",
       "</table>\n",
       "<p>513 rows × 8 columns</p>\n",
       "</div>"
      ],
      "text/plain": [
       "    Index                                       Event  \\\n",
       "0    513   UFC Fight Night: Lee vs. Oliveira            \n",
       "1    512   UFC 248: Adesanya vs. Romero                 \n",
       "2    511   UFC Fight Night: Benavidez vs. Figueiredo    \n",
       "3    510   UFC Fight Night: Felder vs. Hooker           \n",
       "4    509   UFC Fight Night: Anderson vs. Błachowicz 2   \n",
       "..   ...                                          ...   \n",
       "508  005   UFC 5: The Return of the Beast               \n",
       "509  004   UFC 4: Revenge of the Warriors               \n",
       "510  003   UFC 3: The American Dream                    \n",
       "511  002   UFC 2: No Way Out                            \n",
       "512  001   UFC 1: The Beginning                         \n",
       "\n",
       "                                                                          wikipage  \\\n",
       "0    https://en.wikipedia.org/wiki/UFC_Fight_Night:_Lee_vs._Oliveira                 \n",
       "1    https://en.wikipedia.org/wiki/UFC_248                                           \n",
       "2    https://en.wikipedia.org/wiki/UFC_Fight_Night:_Benavidez_vs._Figueiredo         \n",
       "3    https://en.wikipedia.org/wiki/UFC_Fight_Night:_Felder_vs._Hooker                \n",
       "4    https://en.wikipedia.org/wiki/UFC_Fight_Night:_Anderson_vs._B%C5%82achowicz_2   \n",
       "..                                                                             ...   \n",
       "508  https://en.wikipedia.org/wiki/UFC_5                                             \n",
       "509  https://en.wikipedia.org/wiki/UFC_4                                             \n",
       "510  https://en.wikipedia.org/wiki/UFC_3                                             \n",
       "511  https://en.wikipedia.org/wiki/UFC_2                                             \n",
       "512  https://en.wikipedia.org/wiki/UFC_1                                             \n",
       "\n",
       "             Date                   Venue                         Location  \\\n",
       "0    Mar 14, 2020  Ginásio Nilson Nelson   Brasília, Brazil                  \n",
       "1    Mar 7, 2020   T-Mobile Arena          Las Vegas, Nevada, U.S.           \n",
       "2    Feb 29, 2020  Chartway Arena          Norfolk, Virginia, U.S.           \n",
       "3    Feb 23, 2020  Spark Arena             Auckland, New Zealand             \n",
       "4    Feb 15, 2020  Santa Ana Star Center   Rio Rancho, New Mexico, U.S.      \n",
       "..            ...                    ...                            ...      \n",
       "508  Apr 7, 1995   Independence Arena      Charlotte, North Carolina, U.S.   \n",
       "509  Dec 16, 1994  Expo Square Pavilion    Tulsa, Oklahoma, U.S.             \n",
       "510  Sep 9, 1994   Grady Cole Center       Charlotte, North Carolina, U.S.   \n",
       "511  Mar 11, 1994  Mammoth Gardens         Denver, Colorado, U.S.            \n",
       "512  Nov 12, 1993  McNichols Sports Arena  Denver, Colorado, U.S.            \n",
       "\n",
       "    Attendance    Ref  \n",
       "0    0          [15]   \n",
       "1    15,077     [16]   \n",
       "2    7,098      [17]   \n",
       "3    10,025     [18]   \n",
       "4    6,449      [19]   \n",
       "..     ...       ...   \n",
       "508  6,000      [464]  \n",
       "509  5,857      [465]  \n",
       "510  NaN        NaN    \n",
       "511  2,000      [466]  \n",
       "512  7,800      [467]  \n",
       "\n",
       "[513 rows x 8 columns]"
      ]
     },
     "execution_count": 9,
     "metadata": {},
     "output_type": "execute_result"
    }
   ],
   "source": [
    "events_occurred_df = events_occurred_df.reset_index(drop=True)\n",
    "events_occurred_df"
   ]
  },
  {
   "cell_type": "code",
   "execution_count": null,
   "metadata": {
    "scrolled": false
   },
   "outputs": [],
   "source": [
    "# Get event details from each event wikipage\n",
    "result_df = pd.DataFrame()\n",
    "for index, row in events_occurred_df.iterrows():\n",
    "# for index, row in itertools.islice(events_occurred_df.iterrows(), 3):\n",
    "    event_name = row['Event']\n",
    "    event_url = row['wikipage']\n",
    "    event_date = row['Date']\n",
    "    print(str(index) + \"\\t\" + event_date + \"\\t\" + event_name)\n",
    "    try:\n",
    "        url_request = requests.get(event_url).text\n",
    "        soup = BeautifulSoup(url_request, 'html.parser')\n",
    "        data = []\n",
    "        table = soup.find('table',{'class':'toccolours'})\n",
    "        table_rows = table.find_all('tr')\n",
    "        for row in table_rows:\n",
    "            data.append([t.text.strip() for t in row.find_all('td')]) \n",
    "        df = pd.DataFrame(data, columns=['Weight class', 'Fighter1', 'Result', 'Fighter2', 'Method', 'Round', 'Time','Note'])\n",
    "        df = df[~df['Weight class'].isnull()]\n",
    "        df.insert(0, \"Date\", event_date) \n",
    "        df.insert(1, \"Event\", event_name)\n",
    "    except:\n",
    "        print(\"Error\")\n",
    "#     df.to_csv(\"data/\"+ event_name + \".csv\", index=False)\n",
    "    result_df = result_df.append(df, ignore_index=True)"
   ]
  },
  {
   "cell_type": "code",
   "execution_count": null,
   "metadata": {},
   "outputs": [],
   "source": [
    "# Initial save of incomplete data\n",
    "# result_df.to_csv(\"data/ufc_matches.csv\", index=False)\n",
    "# result_df.to_json(\"data/ufc_matches.json\",orient='records')"
   ]
  },
  {
   "cell_type": "code",
   "execution_count": null,
   "metadata": {},
   "outputs": [],
   "source": [
    "print(len(result_df))\n",
    "print(len(result_df['Event'].unique()))"
   ]
  },
  {
   "cell_type": "code",
   "execution_count": null,
   "metadata": {},
   "outputs": [],
   "source": [
    "# Need to inspect these pages\n",
    "inspect_df = pd.DataFrame(np.array([['Apr 20, 2013', 'UFC on Fox: Henderson vs. Melendez','2'],\n",
    "                                    ['Jan 19, 2013','UFC on FX: Belfort vs. Bisping','1'],\n",
    "                                    ['Jul 21, 2012','UFC 149: Faber vs. Barão','5'],\n",
    "                                    ['Jun 8, 2012','UFC on FX: Johnson vs. McCall','4'],\n",
    "                                    ['May 15, 2012','UFC on Fuel TV: The Korean Zombie vs. Poirier','3'], \n",
    "                                    ['Feb 15, 2012','UFC on Fuel TV: Sanchez vs. Ellenberger','2'],\n",
    "                                    ['Jan 28, 2012','UFC on Fox: Evans vs. Davis','1'], \n",
    "                                    ['Apr 5, 2007','UFC Fight Night: Stevenson vs. Guillard','1'], \n",
    "                                    ['Aug 6, 2005','UFC Ultimate Fight Night','-1']]), #no wiki page exists\n",
    "                   columns=['date', 'event_name','table_number'])\n",
    "supp_result_df = pd.DataFrame()"
   ]
  },
  {
   "cell_type": "code",
   "execution_count": null,
   "metadata": {
    "scrolled": false
   },
   "outputs": [],
   "source": [
    "for index in range(0,8):\n",
    "    try:\n",
    "        event_date = inspect_df.iloc[index,0]\n",
    "        event_name = inspect_df.iloc[index,1]\n",
    "        table_number = int(inspect_df.iloc[index,2])\n",
    "        event_url = events_occurred_df[events_occurred_df['Date']==event_date]['wikipage'].values[0]\n",
    "        print(event_url)\n",
    "        url_request = requests.get(event_url).text\n",
    "        soup = BeautifulSoup(url_request, 'html.parser')\n",
    "        data = []\n",
    "        table = soup.findAll('table',{'class':'toccolours'})\n",
    "        table_rows = table[table_number].find_all('tr')\n",
    "        for row in table_rows:\n",
    "            data.append([t.text.strip() for t in row.find_all('td')]) \n",
    "        df = pd.DataFrame(data, columns=['Weight class', 'Fighter1', 'Result', 'Fighter2', 'Method', 'Round', 'Time','Note'])\n",
    "        df = df[~df['Weight class'].isnull()]\n",
    "        df.insert(0, \"Date\", event_date) \n",
    "        df.insert(1, \"Event\", event_name)\n",
    "        print(df.iloc[0,0:6])\n",
    "    except:\n",
    "        print(\"Error\")\n",
    "    supp_result_df = supp_result_df.append(df, ignore_index=True)"
   ]
  },
  {
   "cell_type": "code",
   "execution_count": null,
   "metadata": {},
   "outputs": [],
   "source": [
    "print(len(supp_result_df))\n",
    "print(len(supp_result_df['Event'].unique()))"
   ]
  },
  {
   "cell_type": "code",
   "execution_count": null,
   "metadata": {
    "scrolled": false
   },
   "outputs": [],
   "source": [
    "supp_result_df[supp_result_df['Date']=='Feb 15, 2012']"
   ]
  },
  {
   "cell_type": "code",
   "execution_count": null,
   "metadata": {},
   "outputs": [],
   "source": [
    "# Find info on this event since no wiki page exists\n",
    "# Manually add info for this event\n",
    "event_date = 'Aug 6, 2005'\n",
    "event_name = 'UFC Ultimate Fight Night'\n",
    "# https://www.ufc.com/event/UFC-Fight-Night-1\n",
    "# https://www.sherdog.com/events/UFC-Fight-Night-1-Marquardt-vs-Salaverry-3100\n",
    "data_array = np.array([\n",
    "    ['Middleweight', 'Nate Marquardt', 'def.', 'Ivan Salaverry', 'Decision (unanimous) (30-27, 30-27, 29-28)', '3', '5:00', ''],\n",
    "    ['Middleweight', 'Chris Leben', 'def.', 'Patrick Cote', 'Decision (split) (29-28, 30-27, 27-29)', '3', '5:00', ''],\n",
    "    ['Light Heavyweight', 'Stephan Bonnar', 'def.', 'Sam Hoger', 'Decision (unanimous) (30-27, 30-27, 30-27)', '3', '5:00', ''],\n",
    "    ['Middleweight', 'Nate Quarry', 'def.', 'Pete Sell', ' TKO (punch)', '1', '0:42', ''],\n",
    "    ['Welterweight', 'Josh Koscheck', 'def.', 'Pete Spratt', 'Submission (rear-naked choke)', '1', '1:53', ''],\n",
    "    ['Middleweight', 'Mike Swick', 'def.', 'Gideon Ray', 'TKO (punches)', '1', '0:22', ''],\n",
    "    ['Welterweight', 'Kenny Florian', 'def.', 'Alex Karalexis', 'TKO (doctor stoppage)', '2', '2:52', ''],\n",
    "    ['Welterweight', 'Drew Fickett', 'def.', 'Josh Neer', 'Submission (rear-naked choke)', '1', '1:35', '']])"
   ]
  },
  {
   "cell_type": "code",
   "execution_count": null,
   "metadata": {},
   "outputs": [],
   "source": [
    "df = pd.DataFrame(data_array,\n",
    "                  columns=['Weight class', 'Fighter1', 'Result', 'Fighter2', 'Method', 'Round', 'Time','Note'])\n",
    "df.insert(0, \"Date\", event_date) \n",
    "df.insert(1, \"Event\", event_name)\n",
    "df"
   ]
  },
  {
   "cell_type": "code",
   "execution_count": null,
   "metadata": {},
   "outputs": [],
   "source": [
    "supp_result_df = supp_result_df.append(df)\n",
    "print(len(supp_result_df))\n",
    "print(len(supp_result_df['Event'].unique()))"
   ]
  },
  {
   "cell_type": "code",
   "execution_count": null,
   "metadata": {},
   "outputs": [],
   "source": [
    "result_df = result_df.append(supp_result_df)\n",
    "print(len(result_df))\n",
    "print(len(result_df['Event'].unique()))"
   ]
  },
  {
   "cell_type": "code",
   "execution_count": null,
   "metadata": {},
   "outputs": [],
   "source": [
    "# Remove any duplicate rows that might have gathered\n",
    "result_df = result_df.drop_duplicates()"
   ]
  },
  {
   "cell_type": "code",
   "execution_count": null,
   "metadata": {},
   "outputs": [],
   "source": [
    "# Save ufc matches to file\n",
    "result_df.to_csv(\"data/ufc_matches.csv\", index=False)\n",
    "result_df.to_json(\"data/ufc_matches.json\",orient='records')"
   ]
  },
  {
   "cell_type": "code",
   "execution_count": null,
   "metadata": {},
   "outputs": [],
   "source": []
  },
  {
   "cell_type": "markdown",
   "metadata": {},
   "source": [
    "## Scrape list of scheduled events"
   ]
  },
  {
   "cell_type": "code",
   "execution_count": 10,
   "metadata": {},
   "outputs": [],
   "source": [
    "# Collect list of scheduled events\n",
    "url = 'https://en.wikipedia.org/wiki/List_of_UFC_events'\n",
    "url_request = requests.get(url).text\n",
    "soup = BeautifulSoup(url_request, 'html.parser')\n",
    "\n",
    "scheduled_events_data = []\n",
    "scheduled_table = soup.find('table',{'id':'Scheduled_events'})\n",
    "scheduled_table_rows = scheduled_table.find_all('tr')\n",
    "for row in scheduled_table_rows[1:]:\n",
    "    scheduled_events_data.append([t.text.strip() for t in row.find_all('td')]) \n",
    "            \n",
    "scheduled_events_df = pd.DataFrame(scheduled_events_data, columns=['Event', 'Original Date', 'Venue', 'Location', 'Ref','Notes'])"
   ]
  },
  {
   "cell_type": "code",
   "execution_count": 11,
   "metadata": {},
   "outputs": [
    {
     "data": {
      "text/html": [
       "<div>\n",
       "<style scoped>\n",
       "    .dataframe tbody tr th:only-of-type {\n",
       "        vertical-align: middle;\n",
       "    }\n",
       "\n",
       "    .dataframe tbody tr th {\n",
       "        vertical-align: top;\n",
       "    }\n",
       "\n",
       "    .dataframe thead th {\n",
       "        text-align: right;\n",
       "    }\n",
       "</style>\n",
       "<table border=\"1\" class=\"dataframe\">\n",
       "  <thead>\n",
       "    <tr style=\"text-align: right;\">\n",
       "      <th></th>\n",
       "      <th>Event</th>\n",
       "      <th>Original Date</th>\n",
       "      <th>Venue</th>\n",
       "      <th>Location</th>\n",
       "      <th>Ref</th>\n",
       "      <th>Notes</th>\n",
       "    </tr>\n",
       "  </thead>\n",
       "  <tbody>\n",
       "    <tr>\n",
       "      <td>0</td>\n",
       "      <td>UFC Fight Night</td>\n",
       "      <td>Aug 15, 2020</td>\n",
       "      <td>3Arena</td>\n",
       "      <td>Dublin, Ireland</td>\n",
       "      <td>[9]</td>\n",
       "      <td>Postponed</td>\n",
       "    </tr>\n",
       "    <tr>\n",
       "      <td>1</td>\n",
       "      <td>UFC Fight Night 178</td>\n",
       "      <td>July 18, 2020</td>\n",
       "      <td>TBD</td>\n",
       "      <td>TBD</td>\n",
       "      <td>[10]</td>\n",
       "      <td>Planned</td>\n",
       "    </tr>\n",
       "    <tr>\n",
       "      <td>2</td>\n",
       "      <td>UFC 251</td>\n",
       "      <td>July 11, 2020</td>\n",
       "      <td>TBD</td>\n",
       "      <td>TBD</td>\n",
       "      <td>[11]</td>\n",
       "      <td>Planned</td>\n",
       "    </tr>\n",
       "    <tr>\n",
       "      <td>3</td>\n",
       "      <td>UFC on ESPN 10</td>\n",
       "      <td>Jun 27, 2020</td>\n",
       "      <td>TBD</td>\n",
       "      <td>TBD</td>\n",
       "      <td>[12]</td>\n",
       "      <td>Planned</td>\n",
       "    </tr>\n",
       "    <tr>\n",
       "      <td>4</td>\n",
       "      <td>UFC Fight Night 177</td>\n",
       "      <td>Jun 20, 2020</td>\n",
       "      <td>TBD</td>\n",
       "      <td>TBD</td>\n",
       "      <td>[12]</td>\n",
       "      <td>Planned</td>\n",
       "    </tr>\n",
       "    <tr>\n",
       "      <td>5</td>\n",
       "      <td>UFC Fight Night 176</td>\n",
       "      <td>Jun 13, 2020</td>\n",
       "      <td>TBD</td>\n",
       "      <td>TBD</td>\n",
       "      <td>[13]</td>\n",
       "      <td>Planned</td>\n",
       "    </tr>\n",
       "    <tr>\n",
       "      <td>6</td>\n",
       "      <td>UFC 250: Nunes vs. Spencer</td>\n",
       "      <td>Jun 6, 2020</td>\n",
       "      <td>UFC APEX</td>\n",
       "      <td>Las Vegas, Nevada, U.S.</td>\n",
       "      <td>[14]</td>\n",
       "      <td>Planned</td>\n",
       "    </tr>\n",
       "  </tbody>\n",
       "</table>\n",
       "</div>"
      ],
      "text/plain": [
       "                        Event  Original Date     Venue  \\\n",
       "0  UFC Fight Night             Aug 15, 2020   3Arena     \n",
       "1  UFC Fight Night 178         July 18, 2020  TBD        \n",
       "2  UFC 251                     July 11, 2020  TBD        \n",
       "3  UFC on ESPN 10              Jun 27, 2020   TBD        \n",
       "4  UFC Fight Night 177         Jun 20, 2020   TBD        \n",
       "5  UFC Fight Night 176         Jun 13, 2020   TBD        \n",
       "6  UFC 250: Nunes vs. Spencer  Jun 6, 2020    UFC APEX   \n",
       "\n",
       "                  Location   Ref      Notes  \n",
       "0  Dublin, Ireland          [9]   Postponed  \n",
       "1  TBD                      [10]  Planned    \n",
       "2  TBD                      [11]  Planned    \n",
       "3  TBD                      [12]  Planned    \n",
       "4  TBD                      [12]  Planned    \n",
       "5  TBD                      [13]  Planned    \n",
       "6  Las Vegas, Nevada, U.S.  [14]  Planned    "
      ]
     },
     "execution_count": 11,
     "metadata": {},
     "output_type": "execute_result"
    }
   ],
   "source": [
    "scheduled_events_df"
   ]
  },
  {
   "cell_type": "code",
   "execution_count": 12,
   "metadata": {},
   "outputs": [],
   "source": [
    "links = []\n",
    "for row in scheduled_table_rows[1:]:\n",
    "#     links.append([t.get('href') for t in row.find_all('a')]) \n",
    "    links.append(\"https://en.wikipedia.org\" + row.find('a').get('href'))\n",
    "scheduled_events_df.insert(2, \"wikipage\", links) "
   ]
  },
  {
   "cell_type": "code",
   "execution_count": 13,
   "metadata": {},
   "outputs": [],
   "source": [
    "scheduled_events_df.to_csv(\"data/list_of_UFC_scheduled_events.csv\",index=False)"
   ]
  },
  {
   "cell_type": "code",
   "execution_count": null,
   "metadata": {},
   "outputs": [],
   "source": []
  },
  {
   "cell_type": "markdown",
   "metadata": {},
   "source": [
    "## Get links to posters of past events"
   ]
  },
  {
   "cell_type": "code",
   "execution_count": null,
   "metadata": {},
   "outputs": [],
   "source": [
    "# Read list of past UFC events\n",
    "events_df = pd.read_csv(\"data/list_of_UFC_past_events.csv\")\n",
    "events_occurred_df = events_df[events_df['Attendance']!=\"Cancelled\"]\n",
    "# len(events_occurred_df[279:])\n",
    "events_occurred_df = events_occurred_df.reset_index(drop=True)\n",
    "events_occurred_df"
   ]
  },
  {
   "cell_type": "code",
   "execution_count": null,
   "metadata": {},
   "outputs": [],
   "source": [
    "# Get event posters\n",
    "posters_df = pd.DataFrame()   \n",
    "for index, row in events_occurred_df.iterrows():\n",
    "    event_name = row['Event']\n",
    "    event_url = row['wikipage']\n",
    "    event_date = row['Date']\n",
    "    print(str(index) + \"\\t\" + event_date + \"\\t\" + event_name)\n",
    "#     print(event_url)\n",
    "    try:\n",
    "        url_request = requests.get(event_url).text\n",
    "        soup = BeautifulSoup(url_request, 'html.parser')\n",
    "        data = []\n",
    "#         table = soup.find('table',{'class':'infobox'})\n",
    "#         images = table.find('img')\n",
    "        images = soup.find('img')\n",
    "        image_link = \"http:\" + images['src']\n",
    "#         print(image_link)\n",
    "        data.append(image_link) \n",
    "        df = pd.DataFrame(data, columns=['poster_url'])\n",
    "        df.insert(0, \"Date\", event_date) \n",
    "        df.insert(1, \"Event\", event_name)\n",
    "        df.insert(2, \"wikipage\", event_url)\n",
    "    except:\n",
    "        print(\"Error\")\n",
    "        df = pd.DataFrame([\"Not Found\"], columns=['poster_url'])\n",
    "        df.insert(0, \"Date\", event_date) \n",
    "        df.insert(1, \"Event\", event_name)\n",
    "        df.insert(2, \"wikipage\", event_url)\n",
    "    posters_df = posters_df.append(df, ignore_index=True)"
   ]
  },
  {
   "cell_type": "code",
   "execution_count": null,
   "metadata": {},
   "outputs": [],
   "source": [
    "posters_df['Date']= pd.to_datetime(posters_df['Date'],format= '%b %d, %Y')\n",
    "posters_df = posters_df.sort_values('Date').reset_index(drop=True)\n",
    "# posters_df[posters_df['poster_url']==\"Not Found\"]\n",
    "# posters_df"
   ]
  },
  {
   "cell_type": "code",
   "execution_count": null,
   "metadata": {},
   "outputs": [],
   "source": [
    "# posters_df.loc[posters_df['Event'] == \"UFC on Fox: Henderson vs. Melendez\", 'poster_url'] = \"http://upload.wikimedia.org/wikipedia/en/thumb/8/84/UFC_on_Fox_Henderson_vs._Melendez_Poster.gif/220px-UFC_on_Fox_Henderson_vs._Melendez_Poster.gif\"\n",
    "# posters_df.loc[posters_df['Event'] == \"UFC on FX: Belfort vs. Bisping\", 'poster_url'] = \"http://upload.wikimedia.org/wikipedia/en/thumb/f/f5/UFC_on_FX_Belfort_vs._Bisping_poster.jpg/220px-UFC_on_FX_Belfort_vs._Bisping_poster.jpg\"\n",
    "# posters_df.loc[posters_df['Event'] == \"UFC 149: Faber vs. Barão\", 'poster_url'] = \"http://upload.wikimedia.org/wikipedia/en/thumb/f/f4/UFC_149_Faber_vs._Bar%C3%A3o_poster.jpg/220px-UFC_149_Faber_vs._Bar%C3%A3o_poster.jpg\"\n",
    "# posters_df.loc[posters_df['Event'] == \"UFC on FX: Johnson vs. McCall\", 'poster_url'] = \"http://upload.wikimedia.org/wikipedia/en/thumb/e/ea/UFC_on_FX_Johnson_vs._McCall.jpg/220px-UFC_on_FX_Johnson_vs._McCall.jpg\"\n",
    "# posters_df.loc[posters_df['Event'] == \"UFC on Fuel TV: The Korean Zombie vs. Poirier\", 'poster_url'] = \"http://upload.wikimedia.org/wikipedia/en/thumb/4/4c/UFC_on_Fuel_TV_Korean_Zombie_vs._Poirier_poster.jpg/220px-UFC_on_Fuel_TV_Korean_Zombie_vs._Poirier_poster.jpg\"\n",
    "# posters_df.loc[posters_df['Event'] == \"UFC on Fuel TV: Sanchez vs. Ellenberger\", 'poster_url'] = \"http://upload.wikimedia.org/wikipedia/en/thumb/4/4b/UFC_on_Fuel_TV_Sanchez_vs._Ellenberger_poster.jpg/220px-UFC_on_Fuel_TV_Sanchez_vs._Ellenberger_poster.jpg\"\n",
    "# posters_df.loc[posters_df['Event'] == \"UFC on Fox: Evans vs. Davis\", 'poster_url'] = \"http://upload.wikimedia.org/wikipedia/en/thumb/b/b3/UFC_on_Fox_Evans_vs._Davis_poster.jpg/220px-UFC_on_Fox_Evans_vs._Davis_poster.jpg\"\n",
    "# posters_df.loc[posters_df['Event'] == \"UFC Fight Night: Stevenson vs. Guillard\", 'poster_url'] = \"http://upload.wikimedia.org/wikipedia/en/thumb/b/bb/UFCFIGHTNIGHT9.jpg/220px-UFCFIGHTNIGHT9.jpg\"\n",
    "\n",
    "# posters_df.loc[posters_df['Event'] == \"The Ultimate Fighter: Team Couture vs. Team Liddell Finale\", 'poster_url'] = \"http://upload.wikimedia.org/wikipedia/en/thumb/8/83/TUF_1_Finale_Poster_-_Fitness_Philippines.jpg/220px-TUF_1_Finale_Poster_-_Fitness_Philippines.jpg\"\n",
    "# posters_df.loc[posters_df['Event'] == \"The Ultimate Fighter: Team Hughes vs. Team Franklin Finale\", 'poster_url'] = \"http://upload.wikimedia.org/wikipedia/en/c/c9/Tuf2Finale.jpg\"\n",
    "# posters_df.loc[posters_df['Event'] == \"The Ultimate Fighter: Team Ortiz vs. Team Shamrock Finale\", 'poster_url'] = \"http://upload.wikimedia.org/wikipedia/en/thumb/f/f0/Tuf-3-finale.jpg/220px-Tuf-3-finale.jpg\"\n",
    "# posters_df.loc[posters_df['Event'] == \"The Ultimate Fighter: The Comeback Finale\", 'poster_url'] = \"http://upload.wikimedia.org/wikipedia/en/thumb/4/42/UltimateFighter4.jpg/220px-UltimateFighter4.jpg\"\n",
    "# posters_df.loc[posters_df['Event'] == \"The Ultimate Fighter: Team Pulver vs. Team Penn Finale\", 'poster_url'] = \"http://upload.wikimedia.org/wikipedia/en/thumb/a/a0/TUF_5_Finale.jpg/220px-TUF_5_Finale.jpg\"\n",
    "# posters_df.loc[posters_df['Event'] == \"The Ultimate Fighter: Team Hughes vs. Team Serra Finale\", 'poster_url'] = \"http://upload.wikimedia.org/wikipedia/en/thumb/5/51/Ultimatefighter6.jpg/220px-Ultimatefighter6.jpg\"\n",
    "# posters_df.loc[posters_df['Event'] == \"The Ultimate Fighter: Team Rampage vs. Team Forrest Finale\", 'poster_url'] = \"http://upload.wikimedia.org/wikipedia/en/thumb/5/5d/Ultimatefighter7.jpg/220px-Ultimatefighter7.jpg\"\n",
    "# posters_df.loc[posters_df['Event'] == \"The Ultimate Fighter: United States vs. United Kingdom Finale\", 'poster_url'] = \"http://upload.wikimedia.org/wikipedia/en/a/a2/UFCSanchezGuida.jpg\"\n",
    "# posters_df.loc[posters_df['Event'] == \"UFC on FX: Sotiropoulos vs. Pearson\", 'poster_url'] = \"http://upload.wikimedia.org/wikipedia/en/thumb/8/81/The_smashes_finale.png/220px-The_smashes_finale.png\"\n",
    "# posters_df.loc[posters_df['Event'] == \"The Ultimate Fighter Nations Finale: Bisping vs. Kennedy\", 'poster_url'] = \"http://upload.wikimedia.org/wikipedia/en/thumb/1/1b/TUF_Nations_Finale_event_poster.jpg/220px-TUF_Nations_Finale_event_poster.jpg\"\n",
    "# posters_df.loc[posters_df['Event'] == \"The Ultimate Fighter: A Champion Will Be Crowned Finale\", 'poster_url'] = \"http://upload.wikimedia.org/wikipedia/en/1/1a/TUF_20_finale_event_poster.jpg\"\n",
    "# posters_df.loc[posters_df['Event'] == \"The Ultimate Fighter Latin America 3 Finale: dos Anjos vs. Ferguson\", 'poster_url'] = \"http://upload.wikimedia.org/wikipedia/en/3/37/TUF_LA_3_Finale.jpg\"\n",
    "\n",
    "# Missing wiki page\n",
    "# posters_df.loc[posters_df['Event'] == \"UFC Ultimate Fight Night\", 'poster_url'] = \"https://m.media-amazon.com/images/M/MV5BMTBjMjJjMWEtYTc3Yi00YTIyLWEyMDMtMjg5NmIyYTFlMmJmXkEyXkFqcGdeQXVyNDczMDU5Nw@@._V1_.jpg\""
   ]
  },
  {
   "cell_type": "code",
   "execution_count": null,
   "metadata": {},
   "outputs": [],
   "source": [
    "# event_url = posters_df[posters_df['poster_url'].str.contains(\"Flag\")]['wikipage'].iloc[6]\n",
    "# url_request = requests.get(event_url).text\n",
    "# soup = BeautifulSoup(url_request, 'html.parser')\n",
    "# images = soup.find_all('img')\n",
    "# for image in images:\n",
    "#     image_link = \"http:\" + image['src']\n",
    "#     print(image_link) "
   ]
  },
  {
   "cell_type": "code",
   "execution_count": null,
   "metadata": {},
   "outputs": [],
   "source": [
    "# Writer posters_df to file\n",
    "posters_df.to_csv(\"data/ufc_posters.csv\", index=True)"
   ]
  },
  {
   "cell_type": "code",
   "execution_count": null,
   "metadata": {},
   "outputs": [],
   "source": []
  },
  {
   "cell_type": "code",
   "execution_count": 112,
   "metadata": {},
   "outputs": [],
   "source": [
    "# Load posters_df\n",
    "posters_df = pd.read_csv(\"data-mapping/ufc_posters.csv\")"
   ]
  },
  {
   "cell_type": "code",
   "execution_count": 113,
   "metadata": {},
   "outputs": [
    {
     "data": {
      "text/html": [
       "<div>\n",
       "<style scoped>\n",
       "    .dataframe tbody tr th:only-of-type {\n",
       "        vertical-align: middle;\n",
       "    }\n",
       "\n",
       "    .dataframe tbody tr th {\n",
       "        vertical-align: top;\n",
       "    }\n",
       "\n",
       "    .dataframe thead th {\n",
       "        text-align: right;\n",
       "    }\n",
       "</style>\n",
       "<table border=\"1\" class=\"dataframe\">\n",
       "  <thead>\n",
       "    <tr style=\"text-align: right;\">\n",
       "      <th></th>\n",
       "      <th>Date</th>\n",
       "      <th>Event</th>\n",
       "      <th>poster_url</th>\n",
       "      <th>wikipage</th>\n",
       "    </tr>\n",
       "  </thead>\n",
       "  <tbody>\n",
       "    <tr>\n",
       "      <td>0</td>\n",
       "      <td>1993-11-12</td>\n",
       "      <td>UFC 1: The Beginning</td>\n",
       "      <td>http://upload.wikimedia.org/wikipedia/en/thumb/8/83/UFC1vhs.jpg/220px-UFC1vhs.jpg</td>\n",
       "      <td>https://en.wikipedia.org/wiki/UFC_1</td>\n",
       "    </tr>\n",
       "    <tr>\n",
       "      <td>1</td>\n",
       "      <td>1994-03-11</td>\n",
       "      <td>UFC 2: No Way Out</td>\n",
       "      <td>http://upload.wikimedia.org/wikipedia/en/thumb/2/2e/UFC2poster.jpg/220px-UFC2poster.jpg</td>\n",
       "      <td>https://en.wikipedia.org/wiki/UFC_2</td>\n",
       "    </tr>\n",
       "    <tr>\n",
       "      <td>2</td>\n",
       "      <td>1994-09-09</td>\n",
       "      <td>UFC 3: The American Dream</td>\n",
       "      <td>http://upload.wikimedia.org/wikipedia/en/thumb/c/c0/UFC_3_promotional_poster.jpg/220px-UFC_3_promotional_poster.jpg</td>\n",
       "      <td>https://en.wikipedia.org/wiki/UFC_3</td>\n",
       "    </tr>\n",
       "    <tr>\n",
       "      <td>3</td>\n",
       "      <td>1994-12-16</td>\n",
       "      <td>UFC 4: Revenge of the Warriors</td>\n",
       "      <td>http://upload.wikimedia.org/wikipedia/en/thumb/6/61/Ufc4.gif/220px-Ufc4.gif</td>\n",
       "      <td>https://en.wikipedia.org/wiki/UFC_4</td>\n",
       "    </tr>\n",
       "    <tr>\n",
       "      <td>4</td>\n",
       "      <td>1995-04-07</td>\n",
       "      <td>UFC 5: The Return of the Beast</td>\n",
       "      <td>http://upload.wikimedia.org/wikipedia/en/thumb/8/84/Ufc_5.jpg/220px-Ufc_5.jpg</td>\n",
       "      <td>https://en.wikipedia.org/wiki/UFC_5</td>\n",
       "    </tr>\n",
       "    <tr>\n",
       "      <td>...</td>\n",
       "      <td>...</td>\n",
       "      <td>...</td>\n",
       "      <td>...</td>\n",
       "      <td>...</td>\n",
       "    </tr>\n",
       "    <tr>\n",
       "      <td>513</td>\n",
       "      <td>2020-05-09 00:00:00</td>\n",
       "      <td>UFC 249 Ferguson vs. Gaethje</td>\n",
       "      <td>http://upload.wikimedia.org/wikipedia/en/thumb/6/61/Verified_UFC_249_Poster.jpg/220px-Verified_UFC_249_Poster.jpg</td>\n",
       "      <td>https://en.wikipedia.org/wiki/UFC_249</td>\n",
       "    </tr>\n",
       "    <tr>\n",
       "      <td>514</td>\n",
       "      <td>2020-05-13 00:00:00</td>\n",
       "      <td>UFC Fight Night Smith vs. Teixeira</td>\n",
       "      <td>http://upload.wikimedia.org/wikipedia/en/thumb/d/de/UFC_Fight_Night-_Smith_v_Teixeira.jpeg/220px-UFC_Fight_Night-_Smith_v_Teixeira.jpeg</td>\n",
       "      <td>https://en.wikipedia.org/wiki/UFC_Fight_Night:_Smith_vs._Teixeira</td>\n",
       "    </tr>\n",
       "    <tr>\n",
       "      <td>515</td>\n",
       "      <td>2020-05-16 00:00:00</td>\n",
       "      <td>UFC on ESPN Overeem vs. Harris</td>\n",
       "      <td>http://upload.wikimedia.org/wikipedia/en/thumb/9/98/Overeem_vs_Harris_official_poster.jpg/220px-Overeem_vs_Harris_official_poster.jpg</td>\n",
       "      <td>https://en.wikipedia.org/wiki/UFC_on_ESPN:_Overeem_vs._Harris</td>\n",
       "    </tr>\n",
       "    <tr>\n",
       "      <td>516</td>\n",
       "      <td>2020-05-30 00:00:00</td>\n",
       "      <td>UFC_Fight_Night_176 Woodley vs. Burns</td>\n",
       "      <td>http://upload.wikimedia.org/wikipedia/en/thumb/a/a6/UFC_Fight_Night-_Woodley_vs_Burns.png/220px-UFC_Fight_Night-_Woodley_vs_Burns.png</td>\n",
       "      <td>https://en.wikipedia.org/wiki/UFC_Fight_Night_176</td>\n",
       "    </tr>\n",
       "    <tr>\n",
       "      <td>517</td>\n",
       "      <td>2020-06-06</td>\n",
       "      <td>UFC 250: Nunes vs. Spencer</td>\n",
       "      <td>https://upload.wikimedia.org/wikipedia/en/d/db/UFC_250_official_poster.jpg</td>\n",
       "      <td>https://en.wikipedia.org/wiki/UFC_250</td>\n",
       "    </tr>\n",
       "  </tbody>\n",
       "</table>\n",
       "<p>518 rows × 4 columns</p>\n",
       "</div>"
      ],
      "text/plain": [
       "                    Date                                   Event  \\\n",
       "0    1993-11-12           UFC 1: The Beginning                     \n",
       "1    1994-03-11           UFC 2: No Way Out                        \n",
       "2    1994-09-09           UFC 3: The American Dream                \n",
       "3    1994-12-16           UFC 4: Revenge of the Warriors           \n",
       "4    1995-04-07           UFC 5: The Return of the Beast           \n",
       "..          ...                                      ...           \n",
       "513  2020-05-09 00:00:00  UFC 249 Ferguson vs. Gaethje             \n",
       "514  2020-05-13 00:00:00  UFC Fight Night Smith vs. Teixeira       \n",
       "515  2020-05-16 00:00:00  UFC on ESPN Overeem vs. Harris           \n",
       "516  2020-05-30 00:00:00  UFC_Fight_Night_176 Woodley vs. Burns    \n",
       "517  2020-06-06           UFC 250: Nunes vs. Spencer               \n",
       "\n",
       "                                                                                                                                  poster_url  \\\n",
       "0    http://upload.wikimedia.org/wikipedia/en/thumb/8/83/UFC1vhs.jpg/220px-UFC1vhs.jpg                                                         \n",
       "1    http://upload.wikimedia.org/wikipedia/en/thumb/2/2e/UFC2poster.jpg/220px-UFC2poster.jpg                                                   \n",
       "2    http://upload.wikimedia.org/wikipedia/en/thumb/c/c0/UFC_3_promotional_poster.jpg/220px-UFC_3_promotional_poster.jpg                       \n",
       "3    http://upload.wikimedia.org/wikipedia/en/thumb/6/61/Ufc4.gif/220px-Ufc4.gif                                                               \n",
       "4    http://upload.wikimedia.org/wikipedia/en/thumb/8/84/Ufc_5.jpg/220px-Ufc_5.jpg                                                             \n",
       "..                                                                             ...                                                             \n",
       "513  http://upload.wikimedia.org/wikipedia/en/thumb/6/61/Verified_UFC_249_Poster.jpg/220px-Verified_UFC_249_Poster.jpg                         \n",
       "514  http://upload.wikimedia.org/wikipedia/en/thumb/d/de/UFC_Fight_Night-_Smith_v_Teixeira.jpeg/220px-UFC_Fight_Night-_Smith_v_Teixeira.jpeg   \n",
       "515  http://upload.wikimedia.org/wikipedia/en/thumb/9/98/Overeem_vs_Harris_official_poster.jpg/220px-Overeem_vs_Harris_official_poster.jpg     \n",
       "516  http://upload.wikimedia.org/wikipedia/en/thumb/a/a6/UFC_Fight_Night-_Woodley_vs_Burns.png/220px-UFC_Fight_Night-_Woodley_vs_Burns.png     \n",
       "517  https://upload.wikimedia.org/wikipedia/en/d/db/UFC_250_official_poster.jpg                                                                \n",
       "\n",
       "                                                              wikipage  \n",
       "0    https://en.wikipedia.org/wiki/UFC_1                                \n",
       "1    https://en.wikipedia.org/wiki/UFC_2                                \n",
       "2    https://en.wikipedia.org/wiki/UFC_3                                \n",
       "3    https://en.wikipedia.org/wiki/UFC_4                                \n",
       "4    https://en.wikipedia.org/wiki/UFC_5                                \n",
       "..                                   ...                                \n",
       "513  https://en.wikipedia.org/wiki/UFC_249                              \n",
       "514  https://en.wikipedia.org/wiki/UFC_Fight_Night:_Smith_vs._Teixeira  \n",
       "515  https://en.wikipedia.org/wiki/UFC_on_ESPN:_Overeem_vs._Harris      \n",
       "516  https://en.wikipedia.org/wiki/UFC_Fight_Night_176                  \n",
       "517  https://en.wikipedia.org/wiki/UFC_250                              \n",
       "\n",
       "[518 rows x 4 columns]"
      ]
     },
     "execution_count": 113,
     "metadata": {},
     "output_type": "execute_result"
    }
   ],
   "source": [
    "posters_df = posters_df.drop(columns=['id'])\n",
    "\n",
    "# Insert UFC 250\n",
    "# new_row = {'Date':'2020-06-06', 'Event':'UFC 250: Nunes vs. Spencer',\n",
    "#            'poster_url':'https://upload.wikimedia.org/wikipedia/en/d/db/UFC_250_official_poster.jpg',\n",
    "#           'wikipage':'https://en.wikipedia.org/wiki/UFC_250'}\n",
    "# posters_df = posters_df.append(new_row, ignore_index=True)\n",
    "posters_df"
   ]
  },
  {
   "cell_type": "code",
   "execution_count": 124,
   "metadata": {
    "scrolled": true
   },
   "outputs": [
    {
     "data": {
      "text/plain": [
       "56     http://upload.wikimedia.org/wikipedia/en/thumb/8/83/TUF_1_Finale_Poster_-_Fitness_Philippines.jpg/220px-TUF_1_Finale_Poster_-_Fitness_Philippines.jpg                                        \n",
       "63     http://upload.wikimedia.org/wikipedia/en/c/c9/Tuf2Finale.jpg                                                                                                                                 \n",
       "71     http://upload.wikimedia.org/wikipedia/en/thumb/f/f0/Tuf-3-finale.jpg/220px-Tuf-3-finale.jpg                                                                                                  \n",
       "79     http://upload.wikimedia.org/wikipedia/en/thumb/4/42/UltimateFighter4.jpg/220px-UltimateFighter4.jpg                                                                                          \n",
       "92     http://upload.wikimedia.org/wikipedia/en/thumb/a/a0/TUF_5_Finale.jpg/220px-TUF_5_Finale.jpg                                                                                                  \n",
       "100    http://upload.wikimedia.org/wikipedia/en/thumb/5/51/Ultimatefighter6.jpg/220px-Ultimatefighter6.jpg                                                                                          \n",
       "110    http://upload.wikimedia.org/wikipedia/en/thumb/5/5d/Ultimatefighter7.jpg/220px-Ultimatefighter7.jpg                                                                                          \n",
       "120    http://upload.wikimedia.org/wikipedia/en/thumb/2/22/Tuf8-finale-poster.jpg/220px-Tuf8-finale-poster.jpg                                                                                      \n",
       "131    http://upload.wikimedia.org/wikipedia/en/a/a2/UFCSanchezGuida.jpg                                                                                                                            \n",
       "140    http://upload.wikimedia.org/wikipedia/en/a/a2/TUF_10_promo.jpg                                                                                                                               \n",
       "153    http://upload.wikimedia.org/wikipedia/en/thumb/f/fb/Team_Liddell_vs_Ortiz_TUF_poster.jpg/250px-Team_Liddell_vs_Ortiz_TUF_poster.jpg                                                          \n",
       "164    https://upload.wikimedia.org/wikipedia/en/thumb/f/f8/Tuf_12_poster.jpg/220px-Tuf_12_poster.jpg                                                                                               \n",
       "175    http://upload.wikimedia.org/wikipedia/en/thumb/b/bf/Tuf13.jpg/250px-Tuf13.jpg                                                                                                                \n",
       "190    http://upload.wikimedia.org/wikipedia/en/0/05/The_Ultimate_Fighter_Team_Bisping_vs_Team_Miller_Finale_Poster.jpg                                                                             \n",
       "205    http://upload.wikimedia.org/wikipedia/en/thumb/5/5c/UFC_TUF_Live_Finale.jpg/220px-UFC_TUF_Live_Finale.jpg                                                                                    \n",
       "222    http://upload.wikimedia.org/wikipedia/en/thumb/4/47/The_Ultimate_Fighter_Team_Carwin_vs_Team_Nelson_Finale_Poster.jpg/220px-The_Ultimate_Fighter_Team_Carwin_vs_Team_Nelson_Finale_Poster.jpg\n",
       "232    http://upload.wikimedia.org/wikipedia/en/thumb/a/a6/TUF_Finale_Jones_Sonnen.jpg/220px-TUF_Finale_Jones_Sonnen.jpg                                                                            \n",
       "253    http://upload.wikimedia.org/wikipedia/en/thumb/c/cc/TUF_18_event_poster.jpg/220px-TUF_18_event_poster.jpg                                                                                    \n",
       "263    http://upload.wikimedia.org/wikipedia/en/thumb/6/6f/TUF_China_Finale.jpg/220px-TUF_China_Finale.jpg                                                                                          \n",
       "268    http://upload.wikimedia.org/wikipedia/en/thumb/1/1b/TUF_Nations_Finale_event_poster.jpg/220px-TUF_Nations_Finale_event_poster.jpg                                                            \n",
       "274    http://upload.wikimedia.org/wikipedia/en/thumb/d/da/TUF_Brazil_3_finale.jpg/220px-TUF_Brazil_3_finale.jpg                                                                                    \n",
       "280    http://upload.wikimedia.org/wikipedia/en/thumb/2/21/TUF_19_finale_event_poster.png/220px-TUF_19_finale_event_poster.png                                                                      \n",
       "300    http://upload.wikimedia.org/wikipedia/en/1/1a/TUF_20_finale_event_poster.jpg                                                                                                                 \n",
       "325    http://upload.wikimedia.org/wikipedia/en/1/1a/TUF_21_Finale_pre_sale.jpg                                                                                                                     \n",
       "338    http://upload.wikimedia.org/wikipedia/en/f/f6/Magny_Gastelum_updated_poster.jpg                                                                                                              \n",
       "341    http://upload.wikimedia.org/wikipedia/en/1/1a/TUF_22_Finale_event_poster.jpg                                                                                                                 \n",
       "361    http://upload.wikimedia.org/wikipedia/en/e/ec/TUF_23_Finale.jpg                                                                                                                              \n",
       "375    http://upload.wikimedia.org/wikipedia/en/3/37/TUF_LA_3_Finale.jpg                                                                                                                            \n",
       "380    http://upload.wikimedia.org/wikipedia/en/3/37/TUF_24_Finale.jpg                                                                                                                              \n",
       "402    http://upload.wikimedia.org/wikipedia/en/7/7c/TUF_25_Finale.jpg                                                                                                                              \n",
       "419    http://upload.wikimedia.org/wikipedia/en/thumb/9/9f/TUF_26_Finale.jpg/220px-TUF_26_Finale.jpg                                                                                                \n",
       "442    http://upload.wikimedia.org/wikipedia/en/thumb/d/d0/The_Ultimate_Fighter_27_Finale_poster.jpg/220px-The_Ultimate_Fighter_27_Finale_poster.jpg                                                \n",
       "458    http://upload.wikimedia.org/wikipedia/en/thumb/4/42/Tuf28Poster.png/225px-Tuf28Poster.png                                                                                                    \n",
       "Name: poster_url, dtype: object"
      ]
     },
     "execution_count": 124,
     "metadata": {},
     "output_type": "execute_result"
    }
   ],
   "source": [
    "# posters_df[posters_df['poster_url'].isna()]\n",
    "# posters_df[posters_df['poster_url'].str.contains('Logo_of_the_Ultimate_Fighting_Championship')]\n",
    "# posters_df[posters_df['poster_url'].str.contains('Symbol_support_vote')]\n",
    "# posters_df[posters_df['poster_url'].str.contains('icon')]\n",
    "posters_df[posters_df['Event'].str.contains('Finale')]['poster_url']\n",
    "# posters_df[posters_df['Event'].str.contains('UFC on Fuel TV: Sanchez vs. Ellenberger')]"
   ]
  },
  {
   "cell_type": "code",
   "execution_count": 130,
   "metadata": {},
   "outputs": [],
   "source": [
    "# posters_df.loc[30,'poster_url'] = \"http://upload.wikimedia.org/wikipedia/en/thumb/4/4e/UFC_27_poster.jpg/220px-UFC_27_poster.jpg\"\n",
    "# posters_df.loc[59,'poster_url'] = \"https://m.media-amazon.com/images/M/MV5BMTBjMjJjMWEtYTc3Yi00YTIyLWEyMDMtMjg5NmIyYTFlMmJmXkEyXkFqcGdeQXVyNDczMDU5Nw@@._V1_.jpg\"\n",
    "# posters_df.loc[84,'poster_url'] = \"http://upload.wikimedia.org/wikipedia/en/thumb/8/81/UFC67.jpg/220px-UFC67.jpg\"\n",
    "# posters_df.loc[86,'poster_url'] = \"http://upload.wikimedia.org/wikipedia/en/thumb/b/bb/UFCFIGHTNIGHT9.jpg/220px-UFCFIGHTNIGHT9.jpg\"\n",
    "# posters_df.loc[132,'poster_url'] = \"http://upload.wikimedia.org/wikipedia/en/f/ff/UFC100lesnarmir.jpg\"\n",
    "# posters_df.loc[142,'poster_url'] = \"http://upload.wikimedia.org/wikipedia/en/thumb/4/49/Ufc_108_poster.jpg/220px-Ufc_108_poster.jpg\"\n",
    "# posters_df.loc[169,'poster_url'] = \"http://upload.wikimedia.org/wikipedia/en/thumb/2/29/UFC_127_poster.jpg/220px-UFC_127_poster.jpg\"\n",
    "# posters_df.loc[171,'poster_url'] = \"http://upload.wikimedia.org/wikipedia/en/thumb/d/d4/UFC128ShogunvsJones.jpg/220px-UFC128ShogunvsJones.jpg\"\n",
    "# posters_df.loc[218,'poster_url'] = \"http://upload.wikimedia.org/wikipedia/en/thumb/e/ec/UFConFUEL6.jpg/220px-UFConFUEL6.jpg\"\n",
    "# posters_df.loc[333,'poster_url'] = \"http://upload.wikimedia.org/wikipedia/en/8/87/UFN_75_poster.jpg\"\n",
    "# posters_df.loc[123,'poster_url'] = \"http://upload.wikimedia.org/wikipedia/en/c/c6/Ufc_94_poster.jpg\"\n",
    "# posters_df.loc[209,'poster_url'] = \"http://upload.wikimedia.org/wikipedia/en/thumb/7/71/UFC_148_Event_Poster.jpg/220px-UFC_148_Event_Poster.jpg\"\n",
    "# posters_df.loc[195,'poster_url'] = \"http://upload.wikimedia.org/wikipedia/en/thumb/b/b3/UFC_on_Fox_Evans_vs._Davis_poster.jpg/220px-UFC_on_Fox_Evans_vs._Davis_poster.jpg\"\n",
    "# posters_df.loc[203,'poster_url'] = \"http://upload.wikimedia.org/wikipedia/en/thumb/4/4c/UFC_on_Fuel_TV_Korean_Zombie_vs._Poirier_poster.jpg/220px-UFC_on_Fuel_TV_Korean_Zombie_vs._Poirier_poster.jpg\"\n",
    "# posters_df.loc[206,'poster_url'] = \"http://upload.wikimedia.org/wikipedia/en/thumb/e/ea/UFC_on_FX_Johnson_vs._McCall.jpg/220px-UFC_on_FX_Johnson_vs._McCall.jpg\"\n",
    "# posters_df.loc[211,'poster_url'] = \"http://upload.wikimedia.org/wikipedia/en/thumb/f/f4/UFC_149_Faber_vs._Bar%C3%A3o_poster.jpg/220px-UFC_149_Faber_vs._Bar%C3%A3o_poster.jpg\"\n",
    "# posters_df.loc[224,'poster_url'] = \"http://upload.wikimedia.org/wikipedia/en/thumb/f/f5/UFC_on_FX_Belfort_vs._Bisping_poster.jpg/220px-UFC_on_FX_Belfort_vs._Bisping_poster.jpg\"\n",
    "# posters_df.loc[233,'poster_url'] = \"http://upload.wikimedia.org/wikipedia/en/thumb/8/84/UFC_on_Fox_Henderson_vs._Melendez_Poster.gif/220px-UFC_on_Fox_Henderson_vs._Melendez_Poster.gif\"\n",
    "# posters_df.loc[120,'poster_url'] = \"http://upload.wikimedia.org/wikipedia/en/thumb/2/22/Tuf8-finale-poster.jpg/220px-Tuf8-finale-poster.jpg\"\n",
    "# posters_df.loc[499,'poster_url'] = \"http://upload.wikimedia.org/wikipedia/en/thumb/8/84/UFC_244_Poster.jpg/220px-UFC_244_Poster.jpg\"\n",
    "# posters_df.loc[36,'poster_url'] = \"https://images.tapology.com/poster_images/155/profile/UFC_33_Victory_In_Vegas_Poster.JPG?1300686162\"\n",
    "\n",
    "# posters_df.loc[514,'poster_url'] = \"https://dtvimages.hs.llnwd.net/e1//db_photos/showcards/v5/AllPhotos/18256516/p18256516_b_v5_aa.jpg\"\n",
    "# posters_df.loc[164,'poster_url'] = \"https://upload.wikimedia.org/wikipedia/en/thumb/f/f8/Tuf_12_poster.jpg/220px-Tuf_12_poster.jpg\"\n",
    "# posters_df.loc[197,'poster_url'] = \"http://upload.wikimedia.org/wikipedia/en/thumb/4/4b/UFC_on_Fuel_TV_Sanchez_vs._Ellenberger_poster.jpg/220px-UFC_on_Fuel_TV_Sanchez_vs._Ellenberger_poster.jpg\"\n",
    "\n",
    "# posters_df.loc[100,'poster_url'] = \"https://i.pinimg.com/474x/6e/fa/01/6efa01c878ff09456dfad296643704a8--ufc-combate-ufc-events.jpg\"\n",
    "# posters_df.loc[140,'poster_url'] = \"https://upload.wikimedia.org/wikipedia/en/d/d5/Tuf_10_finale_newsletter_poster.jpg\"\n",
    "# posters_df.loc[153,'poster_url'] = \"https://upload.wikimedia.org/wikipedia/en/1/16/TUF_11_Poster.jpg\"\n",
    "# posters_df.loc[175,'poster_url'] = \"https://upload.wikimedia.org/wikipedia/en/9/91/TUF13Finale.jpg\"\n"
   ]
  },
  {
   "cell_type": "code",
   "execution_count": 131,
   "metadata": {},
   "outputs": [],
   "source": [
    "posters_df.to_csv(\"data-mapping/ufc_posters.csv\", index_label = 'id', index=True)"
   ]
  },
  {
   "cell_type": "code",
   "execution_count": 132,
   "metadata": {},
   "outputs": [],
   "source": [
    "# event_url = posters_df.loc[100]['wikipage']\n",
    "# url_request = requests.get(event_url).text\n",
    "# soup = BeautifulSoup(url_request, 'html.parser')\n",
    "# images = soup.find_all('img')\n",
    "# for image in images:\n",
    "#     image_link = \"http:\" + image['src']\n",
    "#     print(image_link) \n"
   ]
  },
  {
   "cell_type": "code",
   "execution_count": null,
   "metadata": {},
   "outputs": [],
   "source": []
  }
 ],
 "metadata": {
  "kernelspec": {
   "display_name": "Python 3",
   "language": "python",
   "name": "python3"
  },
  "language_info": {
   "codemirror_mode": {
    "name": "ipython",
    "version": 3
   },
   "file_extension": ".py",
   "mimetype": "text/x-python",
   "name": "python",
   "nbconvert_exporter": "python",
   "pygments_lexer": "ipython3",
   "version": "3.7.4"
  }
 },
 "nbformat": 4,
 "nbformat_minor": 2
}
